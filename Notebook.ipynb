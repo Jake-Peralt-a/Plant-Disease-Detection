{
 "cells": [
  {
   "cell_type": "code",
   "execution_count": 12,
   "metadata": {
    "execution": {
     "iopub.execute_input": "2024-01-30T19:55:12.424345Z",
     "iopub.status.busy": "2024-01-30T19:55:12.423446Z",
     "iopub.status.idle": "2024-01-30T19:55:12.429776Z",
     "shell.execute_reply": "2024-01-30T19:55:12.428860Z",
     "shell.execute_reply.started": "2024-01-30T19:55:12.424299Z"
    }
   },
   "outputs": [],
   "source": [
    "import torch\n",
    "import torch.nn as nn\n",
    "import torch.optim as optim\n",
    "from torch.utils.data import DataLoader, random_split\n",
    "from torchvision import datasets, transforms\n",
    "from transformers import ViTFeatureExtractor, ViTForImageClassification\n"
   ]
  },
  {
   "cell_type": "code",
   "execution_count": 13,
   "metadata": {
    "execution": {
     "iopub.execute_input": "2024-01-30T19:55:15.256490Z",
     "iopub.status.busy": "2024-01-30T19:55:15.256125Z",
     "iopub.status.idle": "2024-01-30T19:55:15.261372Z",
     "shell.execute_reply": "2024-01-30T19:55:15.260171Z",
     "shell.execute_reply.started": "2024-01-30T19:55:15.256462Z"
    }
   },
   "outputs": [],
   "source": [
    "IMAGE_SIZE = 224\n",
    "BATCH_SIZE = 32\n",
    "CHANNELS = 3\n",
    "EPOCHS = 10\n",
    "FILE_PATH = \"PlantVillage\"\n"
   ]
  },
  {
   "cell_type": "code",
   "execution_count": 14,
   "metadata": {
    "execution": {
     "iopub.execute_input": "2024-01-30T19:55:20.165162Z",
     "iopub.status.busy": "2024-01-30T19:55:20.164743Z",
     "iopub.status.idle": "2024-01-30T19:55:25.705143Z",
     "shell.execute_reply": "2024-01-30T19:55:25.703893Z",
     "shell.execute_reply.started": "2024-01-30T19:55:20.165132Z"
    }
   },
   "outputs": [
    {
     "name": "stdout",
     "output_type": "stream",
     "text": [
      "mkdir: cannot create directory 'PlantVillage': File exists\n"
     ]
    }
   ],
   "source": [
    "!mkdir \"PlantVillage\"\n",
    "!cp -r \"../input/plant-village/PlantVillage/Pepper__bell___Bacterial_spot/\" \"/kaggle/working/PlantVillage\"\n",
    "!cp -r \"../input/plant-village/PlantVillage/Pepper__bell___healthy/\" \"/kaggle/working/PlantVillage\""
   ]
  },
  {
   "cell_type": "code",
   "execution_count": 15,
   "metadata": {
    "execution": {
     "iopub.execute_input": "2024-01-30T19:55:26.403943Z",
     "iopub.status.busy": "2024-01-30T19:55:26.403539Z",
     "iopub.status.idle": "2024-01-30T19:55:26.422379Z",
     "shell.execute_reply": "2024-01-30T19:55:26.421567Z",
     "shell.execute_reply.started": "2024-01-30T19:55:26.403907Z"
    }
   },
   "outputs": [],
   "source": [
    "\n",
    "transform = transforms.Compose([\n",
    "    transforms.Resize((IMAGE_SIZE, IMAGE_SIZE)),\n",
    "    transforms.RandomHorizontalFlip(),\n",
    "    transforms.RandomVerticalFlip(),\n",
    "    transforms.RandomRotation(30),\n",
    "    transforms.ToTensor(),\n",
    "])\n",
    "\n",
    "dataset = datasets.ImageFolder(FILE_PATH, transform=transform)"
   ]
  },
  {
   "cell_type": "code",
   "execution_count": 16,
   "metadata": {
    "execution": {
     "iopub.execute_input": "2024-01-30T19:55:29.086894Z",
     "iopub.status.busy": "2024-01-30T19:55:29.086027Z",
     "iopub.status.idle": "2024-01-30T19:55:29.092419Z",
     "shell.execute_reply": "2024-01-30T19:55:29.091444Z",
     "shell.execute_reply.started": "2024-01-30T19:55:29.086858Z"
    }
   },
   "outputs": [],
   "source": [
    "train_size = int(0.8 * len(dataset))\n",
    "test_size = len(dataset) - train_size\n",
    "train_dataset, test_dataset = random_split(dataset, [train_size, test_size])\n"
   ]
  },
  {
   "cell_type": "code",
   "execution_count": 17,
   "metadata": {
    "execution": {
     "iopub.execute_input": "2024-01-30T19:55:30.397425Z",
     "iopub.status.busy": "2024-01-30T19:55:30.396674Z",
     "iopub.status.idle": "2024-01-30T19:55:30.402689Z",
     "shell.execute_reply": "2024-01-30T19:55:30.401637Z",
     "shell.execute_reply.started": "2024-01-30T19:55:30.397392Z"
    }
   },
   "outputs": [],
   "source": [
    "train_loader = DataLoader(train_dataset, batch_size=BATCH_SIZE, shuffle=True)\n",
    "test_loader = DataLoader(test_dataset, batch_size=BATCH_SIZE, shuffle=False)"
   ]
  },
  {
   "cell_type": "code",
   "execution_count": 18,
   "metadata": {
    "execution": {
     "iopub.execute_input": "2024-01-30T19:55:31.785255Z",
     "iopub.status.busy": "2024-01-30T19:55:31.784503Z",
     "iopub.status.idle": "2024-01-30T19:55:32.188425Z",
     "shell.execute_reply": "2024-01-30T19:55:32.187594Z",
     "shell.execute_reply.started": "2024-01-30T19:55:31.785223Z"
    }
   },
   "outputs": [],
   "source": [
    "model = ViTForImageClassification.from_pretrained('google/vit-base-patch16-224')"
   ]
  },
  {
   "cell_type": "code",
   "execution_count": 21,
   "metadata": {
    "execution": {
     "iopub.execute_input": "2024-01-30T19:56:35.305741Z",
     "iopub.status.busy": "2024-01-30T19:56:35.305381Z",
     "iopub.status.idle": "2024-01-30T19:56:35.318072Z",
     "shell.execute_reply": "2024-01-30T19:56:35.317070Z",
     "shell.execute_reply.started": "2024-01-30T19:56:35.305717Z"
    }
   },
   "outputs": [
    {
     "name": "stdout",
     "output_type": "stream",
     "text": [
      "Using device: cuda\n"
     ]
    }
   ],
   "source": [
    "model.classifier = nn.Linear(model.config.hidden_size, 2)\n",
    "device = torch.device(\"cuda\" if torch.cuda.is_available() else \"cpu\")\n",
    "print(\"Using device:\", device)\n",
    "criterion = nn.CrossEntropyLoss()\n",
    "model.to(device)\n",
    "criterion.to(device)\n",
    "optimizer = optim.AdamW(model.parameters(), lr=2e-5)"
   ]
  },
  {
   "cell_type": "code",
   "execution_count": 22,
   "metadata": {
    "execution": {
     "iopub.execute_input": "2024-01-30T19:56:39.338293Z",
     "iopub.status.busy": "2024-01-30T19:56:39.337902Z",
     "iopub.status.idle": "2024-01-30T20:04:02.120931Z",
     "shell.execute_reply": "2024-01-30T20:04:02.119919Z",
     "shell.execute_reply.started": "2024-01-30T19:56:39.338265Z"
    }
   },
   "outputs": [
    {
     "name": "stdout",
     "output_type": "stream",
     "text": [
      "Epoch 1/10, Training Loss: 0.1139, Training Accuracy: 0.9520\n",
      "Test Accuracy: 0.9960\n",
      "Epoch 2/10, Training Loss: 0.0088, Training Accuracy: 0.9975\n",
      "Test Accuracy: 1.0000\n",
      "Epoch 3/10, Training Loss: 0.0047, Training Accuracy: 0.9990\n",
      "Test Accuracy: 0.9939\n",
      "Epoch 4/10, Training Loss: 0.0023, Training Accuracy: 0.9990\n",
      "Test Accuracy: 0.9980\n",
      "Epoch 5/10, Training Loss: 0.0007, Training Accuracy: 1.0000\n",
      "Test Accuracy: 0.9980\n",
      "Epoch 6/10, Training Loss: 0.0005, Training Accuracy: 1.0000\n",
      "Test Accuracy: 0.9980\n",
      "Epoch 7/10, Training Loss: 0.0004, Training Accuracy: 1.0000\n",
      "Test Accuracy: 0.9980\n",
      "Epoch 8/10, Training Loss: 0.0003, Training Accuracy: 1.0000\n",
      "Test Accuracy: 0.9960\n",
      "Epoch 9/10, Training Loss: 0.0002, Training Accuracy: 1.0000\n",
      "Test Accuracy: 0.9980\n",
      "Epoch 10/10, Training Loss: 0.0002, Training Accuracy: 1.0000\n",
      "Test Accuracy: 1.0000\n"
     ]
    }
   ],
   "source": [
    "train_losses = []\n",
    "train_accuracies = []\n",
    "test_accuracies = []\n",
    "\n",
    "for epoch in range(EPOCHS):\n",
    "    model.train()\n",
    "    total_loss = 0.0\n",
    "    correct = 0\n",
    "    total = 0\n",
    "\n",
    "    for inputs, labels in train_loader:\n",
    "        inputs, labels = inputs.to(device), labels.to(device)  # Move data to GPU\n",
    "\n",
    "        optimizer.zero_grad()\n",
    "        outputs = model(inputs)\n",
    "        loss = criterion(outputs.logits, labels)\n",
    "        loss.backward()\n",
    "        optimizer.step()\n",
    "\n",
    "        total_loss += loss.item()\n",
    "        _, predicted = torch.max(outputs.logits, 1)\n",
    "        total += labels.size(0)\n",
    "        correct += (predicted == labels).sum().item()\n",
    "\n",
    "    accuracy = correct / total\n",
    "    avg_loss = total_loss / len(train_loader)\n",
    "\n",
    "    train_losses.append(avg_loss)\n",
    "    train_accuracies.append(accuracy)\n",
    "\n",
    "    print(f'Epoch {epoch + 1}/{EPOCHS}, '\n",
    "          f'Training Loss: {avg_loss:.4f}, '\n",
    "          f'Training Accuracy: {accuracy:.4f}')\n",
    "\n",
    "    # Evaluation on the test set\n",
    "    model.eval()\n",
    "    correct = 0\n",
    "    total = 0\n",
    "    with torch.no_grad():\n",
    "        for inputs, labels in test_loader:\n",
    "            inputs, labels = inputs.to(device), labels.to(device)  # Move data to GPU\n",
    "\n",
    "            outputs = model(inputs)\n",
    "            _, predicted = torch.max(outputs.logits, 1)\n",
    "            total += labels.size(0)\n",
    "            correct += (predicted == labels).sum().item()\n",
    "\n",
    "        accuracy = correct / total\n",
    "        test_accuracies.append(accuracy)\n",
    "        print(f'Test Accuracy: {accuracy:.4f}')"
   ]
  },
  {
   "cell_type": "code",
   "execution_count": 23,
   "metadata": {
    "execution": {
     "iopub.execute_input": "2024-01-30T20:04:02.123039Z",
     "iopub.status.busy": "2024-01-30T20:04:02.122707Z",
     "iopub.status.idle": "2024-01-30T20:04:02.730162Z",
     "shell.execute_reply": "2024-01-30T20:04:02.729222Z",
     "shell.execute_reply.started": "2024-01-30T20:04:02.123013Z"
    }
   },
   "outputs": [
    {
     "data": {
      "image/png": "[encoded data removed]",
      "text/plain": [
       "<Figure size 1000x500 with 2 Axes>"
      ]
     },
     "metadata": {},
     "output_type": "display_data"
    }
   ],
   "source": [
    "import matplotlib.pyplot as plt\n",
    "# Plotting the curves\n",
    "plt.figure(figsize=(10, 5))\n",
    "\n",
    "# Loss curve\n",
    "plt.subplot(1, 2, 1)\n",
    "plt.plot(train_losses, label='Training Loss')\n",
    "plt.xlabel('Epochs')\n",
    "plt.ylabel('Loss')\n",
    "plt.title('Training Loss Curve')\n",
    "plt.legend()\n",
    "\n",
    "# Accuracy curve\n",
    "plt.subplot(1, 2, 2)\n",
    "plt.plot(train_accuracies, label='Training Accuracy')\n",
    "plt.plot(test_accuracies, label='Test Accuracy')\n",
    "plt.xlabel('Epochs')\n",
    "plt.ylabel('Accuracy')\n",
    "plt.title('Training and Test Accuracy Curves')\n",
    "plt.legend()\n",
    "\n",
    "plt.tight_layout()\n",
    "plt.show()"
   ]
  },
  {
   "cell_type": "code",
   "execution_count": 24,
   "metadata": {
    "execution": {
     "iopub.execute_input": "2024-01-30T20:04:02.731545Z",
     "iopub.status.busy": "2024-01-30T20:04:02.731269Z",
     "iopub.status.idle": "2024-01-30T20:04:03.174532Z",
     "shell.execute_reply": "2024-01-30T20:04:03.173468Z",
     "shell.execute_reply.started": "2024-01-30T20:04:02.731520Z"
    }
   },
   "outputs": [],
   "source": [
    "# Assuming your model is named 'model'\n",
    "# torch.save(model.state_dict(), 'model_weights.h5')\n",
    "torch.save(model.state_dict(), '/kaggle/working/plant_disease_model.pth')\n",
    "\n"
   ]
  },
  {
   "cell_type": "code",
   "execution_count": null,
   "metadata": {},
   "outputs": [],
   "source": []
  }
 ],
 "metadata": {
  "kaggle": {
   "accelerator": "gpu",
   "dataSources": [
    {
     "datasetId": 414960,
     "sourceId": 793497,
     "sourceType": "datasetVersion"
    }
   ],
   "dockerImageVersionId": 30636,
   "isGpuEnabled": true,
   "isInternetEnabled": true,
   "language": "python",
   "sourceType": "notebook"
  },
  "kernelspec": {
   "display_name": "Python 3 (ipykernel)",
   "language": "python",
   "name": "python3"
  },
  "language_info": {
   "codemirror_mode": {
    "name": "ipython",
    "version": 3
   },
   "file_extension": ".py",
   "mimetype": "text/x-python",
   "name": "python",
   "nbconvert_exporter": "python",
   "pygments_lexer": "ipython3",
   "version": "3.11.7"
  }
 },
 "nbformat": 4,
 "nbformat_minor": 4
}
